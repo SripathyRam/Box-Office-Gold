{
 "cells": [
  {
   "cell_type": "markdown",
   "id": "reduced-aruba",
   "metadata": {},
   "source": [
    "# Importing Libraries"
   ]
  },
  {
   "cell_type": "code",
   "execution_count": 32,
   "id": "starting-stuff",
   "metadata": {},
   "outputs": [],
   "source": [
    "import pandas as pd\n",
    "import numpy as np\n",
    "import matplotlib.pyplot as plt\n",
    "import pylab as py\n",
    "import math\n",
    "from sklearn.metrics import mean_squared_error\n",
    "from sklearn.model_selection import train_test_split\n",
    "from sklearn.linear_model import LinearRegression\n",
    "from sklearn import tree\n",
    "from sklearn.model_selection import train_test_split \n",
    "from sklearn.preprocessing import StandardScaler \n",
    "from sklearn.preprocessing import MinMaxScaler\n",
    "from sklearn.naive_bayes import GaussianNB\n",
    "from sklearn.naive_bayes import BernoulliNB\n",
    "from sklearn.naive_bayes import MultinomialNB\n",
    "from sklearn.neighbors import KNeighborsClassifier\n",
    "from sklearn.model_selection import cross_validate\n",
    "from sklearn.metrics import confusion_matrix\n",
    "from sklearn.metrics import classification_report\n",
    "\n",
    "\n",
    "import seaborn as sb"
   ]
  },
  {
   "cell_type": "markdown",
   "id": "outstanding-quilt",
   "metadata": {},
   "source": [
    "# Importing Dataset\n"
   ]
  },
  {
   "cell_type": "code",
   "execution_count": 3,
   "id": "awful-saskatchewan",
   "metadata": {
    "scrolled": true
   },
   "outputs": [
    {
     "data": {
      "text/html": [
       "<div>\n",
       "<style scoped>\n",
       "    .dataframe tbody tr th:only-of-type {\n",
       "        vertical-align: middle;\n",
       "    }\n",
       "\n",
       "    .dataframe tbody tr th {\n",
       "        vertical-align: top;\n",
       "    }\n",
       "\n",
       "    .dataframe thead th {\n",
       "        text-align: right;\n",
       "    }\n",
       "</style>\n",
       "<table border=\"1\" class=\"dataframe\">\n",
       "  <thead>\n",
       "    <tr style=\"text-align: right;\">\n",
       "      <th></th>\n",
       "      <th>Release Year</th>\n",
       "      <th>Title</th>\n",
       "      <th>Director</th>\n",
       "      <th>Genre</th>\n",
       "      <th>Rating</th>\n",
       "      <th>Budget in Crores</th>\n",
       "      <th>Box Office Collection in crores</th>\n",
       "      <th>Centres</th>\n",
       "      <th>Verdict</th>\n",
       "    </tr>\n",
       "  </thead>\n",
       "  <tbody>\n",
       "    <tr>\n",
       "      <th>0</th>\n",
       "      <td>2011</td>\n",
       "      <td>Venghai</td>\n",
       "      <td>Hari</td>\n",
       "      <td>drama</td>\n",
       "      <td>4.7</td>\n",
       "      <td>10.0</td>\n",
       "      <td>20.0</td>\n",
       "      <td>150</td>\n",
       "      <td>hit</td>\n",
       "    </tr>\n",
       "    <tr>\n",
       "      <th>1</th>\n",
       "      <td>2011</td>\n",
       "      <td>Deiva Thirumagal</td>\n",
       "      <td>A. L. Vijay</td>\n",
       "      <td>drama</td>\n",
       "      <td>8.1</td>\n",
       "      <td>8.0</td>\n",
       "      <td>65.0</td>\n",
       "      <td>300</td>\n",
       "      <td>blockbuster</td>\n",
       "    </tr>\n",
       "    <tr>\n",
       "      <th>2</th>\n",
       "      <td>2011</td>\n",
       "      <td>Kanchana</td>\n",
       "      <td>Raghava Lawrence</td>\n",
       "      <td>comedy horror</td>\n",
       "      <td>6.6</td>\n",
       "      <td>12.0</td>\n",
       "      <td>50.0</td>\n",
       "      <td>200</td>\n",
       "      <td>blockbuster</td>\n",
       "    </tr>\n",
       "    <tr>\n",
       "      <th>3</th>\n",
       "      <td>2011</td>\n",
       "      <td>Karungali</td>\n",
       "      <td>Kalanjiyam</td>\n",
       "      <td>drama</td>\n",
       "      <td>5.5</td>\n",
       "      <td>1.0</td>\n",
       "      <td>0.5</td>\n",
       "      <td>25</td>\n",
       "      <td>flop</td>\n",
       "    </tr>\n",
       "    <tr>\n",
       "      <th>4</th>\n",
       "      <td>2011</td>\n",
       "      <td>Veppam</td>\n",
       "      <td>Anjana Ali Khan</td>\n",
       "      <td>drama</td>\n",
       "      <td>4.8</td>\n",
       "      <td>1.0</td>\n",
       "      <td>5.0</td>\n",
       "      <td>85</td>\n",
       "      <td>flop</td>\n",
       "    </tr>\n",
       "  </tbody>\n",
       "</table>\n",
       "</div>"
      ],
      "text/plain": [
       "   Release Year             Title          Director          Genre  Rating  \\\n",
       "0          2011           Venghai              Hari          drama     4.7   \n",
       "1          2011  Deiva Thirumagal       A. L. Vijay          drama     8.1   \n",
       "2          2011          Kanchana  Raghava Lawrence  comedy horror     6.6   \n",
       "3          2011         Karungali        Kalanjiyam          drama     5.5   \n",
       "4          2011            Veppam   Anjana Ali Khan          drama     4.8   \n",
       "\n",
       "   Budget in Crores  Box Office Collection in crores  Centres      Verdict  \n",
       "0              10.0                             20.0      150          hit  \n",
       "1               8.0                             65.0      300  blockbuster  \n",
       "2              12.0                             50.0      200  blockbuster  \n",
       "3               1.0                              0.5       25         flop  \n",
       "4               1.0                              5.0       85         flop  "
      ]
     },
     "execution_count": 3,
     "metadata": {},
     "output_type": "execute_result"
    }
   ],
   "source": [
    "dt=pd.read_csv(\"C:/Users/Arun/Documents/Kollywood Box Office.csv\")\n",
    "dt.head()\n"
   ]
  },
  {
   "cell_type": "markdown",
   "id": "spoken-tolerance",
   "metadata": {},
   "source": [
    "Grouping the movies which collected more than 250 crores in box office"
   ]
  },
  {
   "cell_type": "code",
   "execution_count": 4,
   "id": "played-bulgarian",
   "metadata": {
    "scrolled": true
   },
   "outputs": [
    {
     "data": {
      "text/html": [
       "<div>\n",
       "<style scoped>\n",
       "    .dataframe tbody tr th:only-of-type {\n",
       "        vertical-align: middle;\n",
       "    }\n",
       "\n",
       "    .dataframe tbody tr th {\n",
       "        vertical-align: top;\n",
       "    }\n",
       "\n",
       "    .dataframe thead th {\n",
       "        text-align: right;\n",
       "    }\n",
       "</style>\n",
       "<table border=\"1\" class=\"dataframe\">\n",
       "  <thead>\n",
       "    <tr style=\"text-align: right;\">\n",
       "      <th></th>\n",
       "      <th>Release Year</th>\n",
       "      <th>Title</th>\n",
       "      <th>Director</th>\n",
       "      <th>Genre</th>\n",
       "      <th>Rating</th>\n",
       "      <th>Budget in Crores</th>\n",
       "      <th>Box Office Collection in crores</th>\n",
       "      <th>Centres</th>\n",
       "      <th>Verdict</th>\n",
       "    </tr>\n",
       "  </thead>\n",
       "  <tbody>\n",
       "    <tr>\n",
       "      <th>211</th>\n",
       "      <td>2015</td>\n",
       "      <td>I</td>\n",
       "      <td>Shankar</td>\n",
       "      <td>romantic thriller</td>\n",
       "      <td>7.3</td>\n",
       "      <td>100.0</td>\n",
       "      <td>260.0</td>\n",
       "      <td>500</td>\n",
       "      <td>blockbuster</td>\n",
       "    </tr>\n",
       "    <tr>\n",
       "      <th>253</th>\n",
       "      <td>2015</td>\n",
       "      <td>Baahubali: The Beginning</td>\n",
       "      <td>S. S. Rajamouli</td>\n",
       "      <td>epic / history</td>\n",
       "      <td>7.9</td>\n",
       "      <td>150.0</td>\n",
       "      <td>650.0</td>\n",
       "      <td>600</td>\n",
       "      <td>blockbuster</td>\n",
       "    </tr>\n",
       "    <tr>\n",
       "      <th>320</th>\n",
       "      <td>2016</td>\n",
       "      <td>Kabali</td>\n",
       "      <td>Pa. Ranjith</td>\n",
       "      <td>action drama</td>\n",
       "      <td>6.5</td>\n",
       "      <td>115.0</td>\n",
       "      <td>297.0</td>\n",
       "      <td>600</td>\n",
       "      <td>blockbuster</td>\n",
       "    </tr>\n",
       "    <tr>\n",
       "      <th>371</th>\n",
       "      <td>2017</td>\n",
       "      <td>Baahubali: The Conclusion</td>\n",
       "      <td>S. S. Rajamouli</td>\n",
       "      <td>fantasy</td>\n",
       "      <td>8.1</td>\n",
       "      <td>450.0</td>\n",
       "      <td>1810.0</td>\n",
       "      <td>1700</td>\n",
       "      <td>All time blockbuster</td>\n",
       "    </tr>\n",
       "    <tr>\n",
       "      <th>404</th>\n",
       "      <td>2017</td>\n",
       "      <td>Mersal</td>\n",
       "      <td>Atlee</td>\n",
       "      <td>action thriller</td>\n",
       "      <td>7.6</td>\n",
       "      <td>115.0</td>\n",
       "      <td>275.0</td>\n",
       "      <td>500</td>\n",
       "      <td>blockbuster</td>\n",
       "    </tr>\n",
       "  </tbody>\n",
       "</table>\n",
       "</div>"
      ],
      "text/plain": [
       "     Release Year                      Title         Director  \\\n",
       "211          2015                          I          Shankar   \n",
       "253          2015   Baahubali: The Beginning  S. S. Rajamouli   \n",
       "320          2016                     Kabali      Pa. Ranjith   \n",
       "371          2017  Baahubali: The Conclusion  S. S. Rajamouli   \n",
       "404          2017                     Mersal            Atlee   \n",
       "\n",
       "                 Genre  Rating  Budget in Crores  \\\n",
       "211  romantic thriller     7.3             100.0   \n",
       "253     epic / history     7.9             150.0   \n",
       "320       action drama     6.5             115.0   \n",
       "371            fantasy     8.1             450.0   \n",
       "404    action thriller     7.6             115.0   \n",
       "\n",
       "     Box Office Collection in crores  Centres               Verdict  \n",
       "211                            260.0      500           blockbuster  \n",
       "253                            650.0      600           blockbuster  \n",
       "320                            297.0      600           blockbuster  \n",
       "371                           1810.0     1700  All time blockbuster  \n",
       "404                            275.0      500           blockbuster  "
      ]
     },
     "execution_count": 4,
     "metadata": {},
     "output_type": "execute_result"
    }
   ],
   "source": [
    "a = dt[dt['Box Office Collection in crores'] >= 250].apply(list)\n",
    "a"
   ]
  },
  {
   "cell_type": "markdown",
   "id": "heavy-morning",
   "metadata": {},
   "source": [
    "Grouping the movies directed by the director Hari"
   ]
  },
  {
   "cell_type": "code",
   "execution_count": 5,
   "id": "brave-hospital",
   "metadata": {},
   "outputs": [
    {
     "data": {
      "text/html": [
       "<div>\n",
       "<style scoped>\n",
       "    .dataframe tbody tr th:only-of-type {\n",
       "        vertical-align: middle;\n",
       "    }\n",
       "\n",
       "    .dataframe tbody tr th {\n",
       "        vertical-align: top;\n",
       "    }\n",
       "\n",
       "    .dataframe thead th {\n",
       "        text-align: right;\n",
       "    }\n",
       "</style>\n",
       "<table border=\"1\" class=\"dataframe\">\n",
       "  <thead>\n",
       "    <tr style=\"text-align: right;\">\n",
       "      <th></th>\n",
       "      <th>Release Year</th>\n",
       "      <th>Title</th>\n",
       "      <th>Director</th>\n",
       "      <th>Genre</th>\n",
       "      <th>Rating</th>\n",
       "      <th>Budget in Crores</th>\n",
       "      <th>Box Office Collection in crores</th>\n",
       "      <th>Centres</th>\n",
       "      <th>Verdict</th>\n",
       "    </tr>\n",
       "  </thead>\n",
       "  <tbody>\n",
       "    <tr>\n",
       "      <th>0</th>\n",
       "      <td>2011</td>\n",
       "      <td>Venghai</td>\n",
       "      <td>Hari</td>\n",
       "      <td>drama</td>\n",
       "      <td>4.7</td>\n",
       "      <td>10.0</td>\n",
       "      <td>20.0</td>\n",
       "      <td>150</td>\n",
       "      <td>hit</td>\n",
       "    </tr>\n",
       "    <tr>\n",
       "      <th>102</th>\n",
       "      <td>2013</td>\n",
       "      <td>Singam II</td>\n",
       "      <td>Hari</td>\n",
       "      <td>action-masala</td>\n",
       "      <td>6.3</td>\n",
       "      <td>35.0</td>\n",
       "      <td>135.0</td>\n",
       "      <td>150</td>\n",
       "      <td>blockbuster</td>\n",
       "    </tr>\n",
       "    <tr>\n",
       "      <th>195</th>\n",
       "      <td>2014</td>\n",
       "      <td>Poojai</td>\n",
       "      <td>Hari</td>\n",
       "      <td>action-masala</td>\n",
       "      <td>5.8</td>\n",
       "      <td>25.0</td>\n",
       "      <td>45.0</td>\n",
       "      <td>150</td>\n",
       "      <td>hit</td>\n",
       "    </tr>\n",
       "    <tr>\n",
       "      <th>354</th>\n",
       "      <td>2017</td>\n",
       "      <td>Si3</td>\n",
       "      <td>Hari</td>\n",
       "      <td>action masala</td>\n",
       "      <td>6.5</td>\n",
       "      <td>75.0</td>\n",
       "      <td>135.0</td>\n",
       "      <td>500</td>\n",
       "      <td>hit</td>\n",
       "    </tr>\n",
       "  </tbody>\n",
       "</table>\n",
       "</div>"
      ],
      "text/plain": [
       "     Release Year      Title Director          Genre  Rating  \\\n",
       "0            2011    Venghai     Hari          drama     4.7   \n",
       "102          2013  Singam II     Hari  action-masala     6.3   \n",
       "195          2014     Poojai     Hari  action-masala     5.8   \n",
       "354          2017        Si3     Hari  action masala     6.5   \n",
       "\n",
       "     Budget in Crores  Box Office Collection in crores  Centres      Verdict  \n",
       "0                10.0                             20.0      150          hit  \n",
       "102              35.0                            135.0      150  blockbuster  \n",
       "195              25.0                             45.0      150          hit  \n",
       "354              75.0                            135.0      500          hit  "
      ]
     },
     "execution_count": 5,
     "metadata": {},
     "output_type": "execute_result"
    }
   ],
   "source": [
    "dt.groupby('Director').get_group('Hari').apply(list)"
   ]
  },
  {
   "cell_type": "markdown",
   "id": "controversial-parish",
   "metadata": {},
   "source": [
    "# Understanding the dataset"
   ]
  },
  {
   "cell_type": "code",
   "execution_count": 6,
   "id": "criminal-pioneer",
   "metadata": {},
   "outputs": [
    {
     "data": {
      "text/html": [
       "<div>\n",
       "<style scoped>\n",
       "    .dataframe tbody tr th:only-of-type {\n",
       "        vertical-align: middle;\n",
       "    }\n",
       "\n",
       "    .dataframe tbody tr th {\n",
       "        vertical-align: top;\n",
       "    }\n",
       "\n",
       "    .dataframe thead th {\n",
       "        text-align: right;\n",
       "    }\n",
       "</style>\n",
       "<table border=\"1\" class=\"dataframe\">\n",
       "  <thead>\n",
       "    <tr style=\"text-align: right;\">\n",
       "      <th></th>\n",
       "      <th>Release Year</th>\n",
       "      <th>Rating</th>\n",
       "      <th>Budget in Crores</th>\n",
       "      <th>Box Office Collection in crores</th>\n",
       "      <th>Centres</th>\n",
       "    </tr>\n",
       "  </thead>\n",
       "  <tbody>\n",
       "    <tr>\n",
       "      <th>count</th>\n",
       "      <td>416.000000</td>\n",
       "      <td>416.000000</td>\n",
       "      <td>416.000000</td>\n",
       "      <td>416.000000</td>\n",
       "      <td>416.000000</td>\n",
       "    </tr>\n",
       "    <tr>\n",
       "      <th>mean</th>\n",
       "      <td>2014.418269</td>\n",
       "      <td>5.950000</td>\n",
       "      <td>17.647837</td>\n",
       "      <td>35.603966</td>\n",
       "      <td>204.747596</td>\n",
       "    </tr>\n",
       "    <tr>\n",
       "      <th>std</th>\n",
       "      <td>1.816405</td>\n",
       "      <td>1.102855</td>\n",
       "      <td>30.215218</td>\n",
       "      <td>100.850714</td>\n",
       "      <td>140.422328</td>\n",
       "    </tr>\n",
       "    <tr>\n",
       "      <th>min</th>\n",
       "      <td>2011.000000</td>\n",
       "      <td>3.000000</td>\n",
       "      <td>0.500000</td>\n",
       "      <td>0.500000</td>\n",
       "      <td>15.000000</td>\n",
       "    </tr>\n",
       "    <tr>\n",
       "      <th>25%</th>\n",
       "      <td>2013.000000</td>\n",
       "      <td>4.975000</td>\n",
       "      <td>5.000000</td>\n",
       "      <td>5.000000</td>\n",
       "      <td>100.000000</td>\n",
       "    </tr>\n",
       "    <tr>\n",
       "      <th>50%</th>\n",
       "      <td>2014.000000</td>\n",
       "      <td>6.000000</td>\n",
       "      <td>12.000000</td>\n",
       "      <td>17.500000</td>\n",
       "      <td>200.000000</td>\n",
       "    </tr>\n",
       "    <tr>\n",
       "      <th>75%</th>\n",
       "      <td>2016.000000</td>\n",
       "      <td>6.600000</td>\n",
       "      <td>19.250000</td>\n",
       "      <td>35.000000</td>\n",
       "      <td>250.000000</td>\n",
       "    </tr>\n",
       "    <tr>\n",
       "      <th>max</th>\n",
       "      <td>2017.000000</td>\n",
       "      <td>8.600000</td>\n",
       "      <td>450.000000</td>\n",
       "      <td>1810.000000</td>\n",
       "      <td>1700.000000</td>\n",
       "    </tr>\n",
       "  </tbody>\n",
       "</table>\n",
       "</div>"
      ],
      "text/plain": [
       "       Release Year      Rating  Budget in Crores  \\\n",
       "count    416.000000  416.000000        416.000000   \n",
       "mean    2014.418269    5.950000         17.647837   \n",
       "std        1.816405    1.102855         30.215218   \n",
       "min     2011.000000    3.000000          0.500000   \n",
       "25%     2013.000000    4.975000          5.000000   \n",
       "50%     2014.000000    6.000000         12.000000   \n",
       "75%     2016.000000    6.600000         19.250000   \n",
       "max     2017.000000    8.600000        450.000000   \n",
       "\n",
       "       Box Office Collection in crores      Centres  \n",
       "count                       416.000000   416.000000  \n",
       "mean                         35.603966   204.747596  \n",
       "std                         100.850714   140.422328  \n",
       "min                           0.500000    15.000000  \n",
       "25%                           5.000000   100.000000  \n",
       "50%                          17.500000   200.000000  \n",
       "75%                          35.000000   250.000000  \n",
       "max                        1810.000000  1700.000000  "
      ]
     },
     "execution_count": 6,
     "metadata": {},
     "output_type": "execute_result"
    }
   ],
   "source": [
    "dt.describe()"
   ]
  },
  {
   "cell_type": "markdown",
   "id": "anonymous-vegetarian",
   "metadata": {},
   "source": [
    "# Data  Preprocessing"
   ]
  },
  {
   "cell_type": "code",
   "execution_count": 7,
   "id": "peripheral-significance",
   "metadata": {
    "scrolled": true
   },
   "outputs": [
    {
     "data": {
      "text/html": [
       "<div>\n",
       "<style scoped>\n",
       "    .dataframe tbody tr th:only-of-type {\n",
       "        vertical-align: middle;\n",
       "    }\n",
       "\n",
       "    .dataframe tbody tr th {\n",
       "        vertical-align: top;\n",
       "    }\n",
       "\n",
       "    .dataframe thead th {\n",
       "        text-align: right;\n",
       "    }\n",
       "</style>\n",
       "<table border=\"1\" class=\"dataframe\">\n",
       "  <thead>\n",
       "    <tr style=\"text-align: right;\">\n",
       "      <th></th>\n",
       "      <th>Release Year</th>\n",
       "      <th>Title</th>\n",
       "      <th>Director</th>\n",
       "      <th>Genre</th>\n",
       "      <th>Rating</th>\n",
       "      <th>Budget in Crores</th>\n",
       "      <th>Box Office Collection in crores</th>\n",
       "      <th>Centres</th>\n",
       "      <th>Verdict</th>\n",
       "    </tr>\n",
       "  </thead>\n",
       "  <tbody>\n",
       "    <tr>\n",
       "      <th>0</th>\n",
       "      <td>False</td>\n",
       "      <td>False</td>\n",
       "      <td>False</td>\n",
       "      <td>False</td>\n",
       "      <td>False</td>\n",
       "      <td>False</td>\n",
       "      <td>False</td>\n",
       "      <td>False</td>\n",
       "      <td>False</td>\n",
       "    </tr>\n",
       "    <tr>\n",
       "      <th>1</th>\n",
       "      <td>False</td>\n",
       "      <td>False</td>\n",
       "      <td>False</td>\n",
       "      <td>False</td>\n",
       "      <td>False</td>\n",
       "      <td>False</td>\n",
       "      <td>False</td>\n",
       "      <td>False</td>\n",
       "      <td>False</td>\n",
       "    </tr>\n",
       "    <tr>\n",
       "      <th>2</th>\n",
       "      <td>False</td>\n",
       "      <td>False</td>\n",
       "      <td>False</td>\n",
       "      <td>False</td>\n",
       "      <td>False</td>\n",
       "      <td>False</td>\n",
       "      <td>False</td>\n",
       "      <td>False</td>\n",
       "      <td>False</td>\n",
       "    </tr>\n",
       "    <tr>\n",
       "      <th>3</th>\n",
       "      <td>False</td>\n",
       "      <td>False</td>\n",
       "      <td>False</td>\n",
       "      <td>False</td>\n",
       "      <td>False</td>\n",
       "      <td>False</td>\n",
       "      <td>False</td>\n",
       "      <td>False</td>\n",
       "      <td>False</td>\n",
       "    </tr>\n",
       "    <tr>\n",
       "      <th>4</th>\n",
       "      <td>False</td>\n",
       "      <td>False</td>\n",
       "      <td>False</td>\n",
       "      <td>False</td>\n",
       "      <td>False</td>\n",
       "      <td>False</td>\n",
       "      <td>False</td>\n",
       "      <td>False</td>\n",
       "      <td>False</td>\n",
       "    </tr>\n",
       "    <tr>\n",
       "      <th>...</th>\n",
       "      <td>...</td>\n",
       "      <td>...</td>\n",
       "      <td>...</td>\n",
       "      <td>...</td>\n",
       "      <td>...</td>\n",
       "      <td>...</td>\n",
       "      <td>...</td>\n",
       "      <td>...</td>\n",
       "      <td>...</td>\n",
       "    </tr>\n",
       "    <tr>\n",
       "      <th>411</th>\n",
       "      <td>False</td>\n",
       "      <td>False</td>\n",
       "      <td>False</td>\n",
       "      <td>False</td>\n",
       "      <td>False</td>\n",
       "      <td>False</td>\n",
       "      <td>False</td>\n",
       "      <td>False</td>\n",
       "      <td>False</td>\n",
       "    </tr>\n",
       "    <tr>\n",
       "      <th>412</th>\n",
       "      <td>False</td>\n",
       "      <td>False</td>\n",
       "      <td>False</td>\n",
       "      <td>False</td>\n",
       "      <td>False</td>\n",
       "      <td>False</td>\n",
       "      <td>False</td>\n",
       "      <td>False</td>\n",
       "      <td>False</td>\n",
       "    </tr>\n",
       "    <tr>\n",
       "      <th>413</th>\n",
       "      <td>False</td>\n",
       "      <td>False</td>\n",
       "      <td>False</td>\n",
       "      <td>False</td>\n",
       "      <td>False</td>\n",
       "      <td>False</td>\n",
       "      <td>False</td>\n",
       "      <td>False</td>\n",
       "      <td>False</td>\n",
       "    </tr>\n",
       "    <tr>\n",
       "      <th>414</th>\n",
       "      <td>False</td>\n",
       "      <td>False</td>\n",
       "      <td>False</td>\n",
       "      <td>False</td>\n",
       "      <td>False</td>\n",
       "      <td>False</td>\n",
       "      <td>False</td>\n",
       "      <td>False</td>\n",
       "      <td>False</td>\n",
       "    </tr>\n",
       "    <tr>\n",
       "      <th>415</th>\n",
       "      <td>False</td>\n",
       "      <td>False</td>\n",
       "      <td>False</td>\n",
       "      <td>False</td>\n",
       "      <td>False</td>\n",
       "      <td>False</td>\n",
       "      <td>False</td>\n",
       "      <td>False</td>\n",
       "      <td>False</td>\n",
       "    </tr>\n",
       "  </tbody>\n",
       "</table>\n",
       "<p>416 rows × 9 columns</p>\n",
       "</div>"
      ],
      "text/plain": [
       "     Release Year  Title  Director  Genre  Rating  Budget in Crores  \\\n",
       "0           False  False     False  False   False             False   \n",
       "1           False  False     False  False   False             False   \n",
       "2           False  False     False  False   False             False   \n",
       "3           False  False     False  False   False             False   \n",
       "4           False  False     False  False   False             False   \n",
       "..            ...    ...       ...    ...     ...               ...   \n",
       "411         False  False     False  False   False             False   \n",
       "412         False  False     False  False   False             False   \n",
       "413         False  False     False  False   False             False   \n",
       "414         False  False     False  False   False             False   \n",
       "415         False  False     False  False   False             False   \n",
       "\n",
       "     Box Office Collection in crores  Centres  Verdict  \n",
       "0                              False    False    False  \n",
       "1                              False    False    False  \n",
       "2                              False    False    False  \n",
       "3                              False    False    False  \n",
       "4                              False    False    False  \n",
       "..                               ...      ...      ...  \n",
       "411                            False    False    False  \n",
       "412                            False    False    False  \n",
       "413                            False    False    False  \n",
       "414                            False    False    False  \n",
       "415                            False    False    False  \n",
       "\n",
       "[416 rows x 9 columns]"
      ]
     },
     "execution_count": 7,
     "metadata": {},
     "output_type": "execute_result"
    }
   ],
   "source": [
    "dt.isnull()"
   ]
  },
  {
   "cell_type": "markdown",
   "id": "duplicate-learning",
   "metadata": {},
   "source": [
    "# Simple Linear Regression"
   ]
  },
  {
   "cell_type": "code",
   "execution_count": 8,
   "id": "welcome-aside",
   "metadata": {},
   "outputs": [
    {
     "data": {
      "text/html": [
       "<div>\n",
       "<style scoped>\n",
       "    .dataframe tbody tr th:only-of-type {\n",
       "        vertical-align: middle;\n",
       "    }\n",
       "\n",
       "    .dataframe tbody tr th {\n",
       "        vertical-align: top;\n",
       "    }\n",
       "\n",
       "    .dataframe thead th {\n",
       "        text-align: right;\n",
       "    }\n",
       "</style>\n",
       "<table border=\"1\" class=\"dataframe\">\n",
       "  <thead>\n",
       "    <tr style=\"text-align: right;\">\n",
       "      <th></th>\n",
       "      <th>x1</th>\n",
       "      <th>x2</th>\n",
       "      <th>x3</th>\n",
       "      <th>y</th>\n",
       "    </tr>\n",
       "  </thead>\n",
       "  <tbody>\n",
       "    <tr>\n",
       "      <th>0</th>\n",
       "      <td>4.7</td>\n",
       "      <td>10.0</td>\n",
       "      <td>150</td>\n",
       "      <td>20.0</td>\n",
       "    </tr>\n",
       "    <tr>\n",
       "      <th>1</th>\n",
       "      <td>8.1</td>\n",
       "      <td>8.0</td>\n",
       "      <td>300</td>\n",
       "      <td>65.0</td>\n",
       "    </tr>\n",
       "    <tr>\n",
       "      <th>2</th>\n",
       "      <td>6.6</td>\n",
       "      <td>12.0</td>\n",
       "      <td>200</td>\n",
       "      <td>50.0</td>\n",
       "    </tr>\n",
       "    <tr>\n",
       "      <th>3</th>\n",
       "      <td>5.5</td>\n",
       "      <td>1.0</td>\n",
       "      <td>25</td>\n",
       "      <td>0.5</td>\n",
       "    </tr>\n",
       "    <tr>\n",
       "      <th>4</th>\n",
       "      <td>4.8</td>\n",
       "      <td>1.0</td>\n",
       "      <td>85</td>\n",
       "      <td>5.0</td>\n",
       "    </tr>\n",
       "    <tr>\n",
       "      <th>...</th>\n",
       "      <td>...</td>\n",
       "      <td>...</td>\n",
       "      <td>...</td>\n",
       "      <td>...</td>\n",
       "    </tr>\n",
       "    <tr>\n",
       "      <th>411</th>\n",
       "      <td>5.5</td>\n",
       "      <td>15.0</td>\n",
       "      <td>300</td>\n",
       "      <td>25.0</td>\n",
       "    </tr>\n",
       "    <tr>\n",
       "      <th>412</th>\n",
       "      <td>4.8</td>\n",
       "      <td>7.0</td>\n",
       "      <td>100</td>\n",
       "      <td>15.0</td>\n",
       "    </tr>\n",
       "    <tr>\n",
       "      <th>413</th>\n",
       "      <td>8.5</td>\n",
       "      <td>5.0</td>\n",
       "      <td>250</td>\n",
       "      <td>15.0</td>\n",
       "    </tr>\n",
       "    <tr>\n",
       "      <th>414</th>\n",
       "      <td>6.1</td>\n",
       "      <td>12.0</td>\n",
       "      <td>100</td>\n",
       "      <td>1.0</td>\n",
       "    </tr>\n",
       "    <tr>\n",
       "      <th>415</th>\n",
       "      <td>6.4</td>\n",
       "      <td>35.0</td>\n",
       "      <td>350</td>\n",
       "      <td>51.0</td>\n",
       "    </tr>\n",
       "  </tbody>\n",
       "</table>\n",
       "<p>416 rows × 4 columns</p>\n",
       "</div>"
      ],
      "text/plain": [
       "      x1    x2   x3     y\n",
       "0    4.7  10.0  150  20.0\n",
       "1    8.1   8.0  300  65.0\n",
       "2    6.6  12.0  200  50.0\n",
       "3    5.5   1.0   25   0.5\n",
       "4    4.8   1.0   85   5.0\n",
       "..   ...   ...  ...   ...\n",
       "411  5.5  15.0  300  25.0\n",
       "412  4.8   7.0  100  15.0\n",
       "413  8.5   5.0  250  15.0\n",
       "414  6.1  12.0  100   1.0\n",
       "415  6.4  35.0  350  51.0\n",
       "\n",
       "[416 rows x 4 columns]"
      ]
     },
     "execution_count": 8,
     "metadata": {},
     "output_type": "execute_result"
    }
   ],
   "source": [
    "ab= {'x1':dt[\"Rating\"],'x2':dt[\"Budget in Crores\"],'x3':dt['Centres'],'y':dt[\"Box Office Collection in crores\"]}\n",
    "df=pd.DataFrame(ab)\n",
    "df"
   ]
  },
  {
   "cell_type": "code",
   "execution_count": 9,
   "id": "sound-habitat",
   "metadata": {},
   "outputs": [],
   "source": [
    "def mean(data):\n",
    "        return (sum(data) / len(data))\n",
    "\n",
    "def Prediction(x, y, x1, x2, x3):\n",
    "        arx = np.array(x)\n",
    "        #print(arx)\n",
    "        artx = arx.T\n",
    "        ary = np.array(y)\n",
    "        fst = np.linalg.inv(np.dot(artx, arx))\n",
    "        sec = np.dot(artx, ary)\n",
    "        res = np.dot(fst, sec)\n",
    "        b0 = mean(y) - (mean(x1) * res[0]) - (mean(x2) * res[1]) - (mean(x3) * res[2])\n",
    "        print(\"Regression Equation: Y = \",b0,\"+\",res[0],\"x1 +\",res[1],\"x2 +\",res[2],\"x3\")\n",
    "        y_predict=[]\n",
    "        ss_total=[]\n",
    "        ss_res=[]\n",
    "        for i in range(len(x1)):\n",
    "            y_predict.append(b0 + res[0]*x1[i] + res[1]*x2[i] + res[2]*x3[i]) \n",
    "            ss_total.append((y[i] - mean(y)) ** 2)\n",
    "            ss_res.append((y[i] - y_predict[i]) ** 2)\n",
    "        sss_res=sum(ss_res)\n",
    "        sss_total=sum(ss_total)\n",
    "        r2 = 1 - (sss_res/sss_total)\n",
    "        print('R2 Score',r2)\n"
   ]
  },
  {
   "cell_type": "code",
   "execution_count": 10,
   "id": "informed-mistake",
   "metadata": {},
   "outputs": [
    {
     "name": "stdout",
     "output_type": "stream",
     "text": [
      "Regression Equation: Y =  -2.144077841979744 + -3.6663084133203374 x1 + 2.839016307363748 x2 + 0.046203636588237174 x3\n",
      "R2 Score 0.8078053536441347\n"
     ]
    }
   ],
   "source": [
    "Prediction(df[['x1','x2','x3']],df['y'],df['x1'],df['x2'],df['x3'])\n"
   ]
  },
  {
   "cell_type": "markdown",
   "id": "spectacular-sailing",
   "metadata": {},
   "source": [
    "# Data Visualisation"
   ]
  },
  {
   "cell_type": "code",
   "execution_count": 11,
   "id": "dutch-tribute",
   "metadata": {},
   "outputs": [
    {
     "data": {
      "text/plain": [
       "<AxesSubplot:xlabel='Rating', ylabel='Count'>"
      ]
     },
     "execution_count": 11,
     "metadata": {},
     "output_type": "execute_result"
    },
    {
     "data": {
      "image/png": "[encoded data removed]",
      "text/plain": [
       "<Figure size 1008x720 with 1 Axes>"
      ]
     },
     "metadata": {
      "needs_background": "light"
     },
     "output_type": "display_data"
    }
   ],
   "source": [
    "plt.rcParams[\"figure.figsize\"] = [14, 10]\n",
    "plt.rcParams.update({'font.size': 14})\n",
    "sb.histplot(dt['Rating'])"
   ]
  },
  {
   "cell_type": "code",
   "execution_count": 12,
   "id": "sunset-machinery",
   "metadata": {},
   "outputs": [
    {
     "data": {
      "text/plain": [
       "(0.0, 500.0)"
      ]
     },
     "execution_count": 12,
     "metadata": {},
     "output_type": "execute_result"
    },
    {
     "data": {
      "image/png": "[encoded data removed]",
      "text/plain": [
       "<Figure size 1728x720 with 1 Axes>"
      ]
     },
     "metadata": {
      "needs_background": "light"
     },
     "output_type": "display_data"
    }
   ],
   "source": [
    "x = dt['Budget in Crores']\n",
    "y = dt['Box Office Collection in crores']\n",
    "plt.rcParams[\"figure.figsize\"] = [24, 10]\n",
    "plt.scatter(x,y)\n",
    "plt.xlabel(\"Budget\")\n",
    "plt.ylabel(\"Box Office\")\n",
    "plt.ylim(0,2000)\n",
    "plt.xlim(0,500)"
   ]
  },
  {
   "cell_type": "code",
   "execution_count": 13,
   "id": "horizontal-validation",
   "metadata": {},
   "outputs": [
    {
     "data": {
      "text/html": [
       "<div>\n",
       "<style scoped>\n",
       "    .dataframe tbody tr th:only-of-type {\n",
       "        vertical-align: middle;\n",
       "    }\n",
       "\n",
       "    .dataframe tbody tr th {\n",
       "        vertical-align: top;\n",
       "    }\n",
       "\n",
       "    .dataframe thead th {\n",
       "        text-align: right;\n",
       "    }\n",
       "</style>\n",
       "<table border=\"1\" class=\"dataframe\">\n",
       "  <thead>\n",
       "    <tr style=\"text-align: right;\">\n",
       "      <th></th>\n",
       "      <th>Release Year</th>\n",
       "      <th>Rating</th>\n",
       "      <th>Budget in Crores</th>\n",
       "      <th>Box Office Collection in crores</th>\n",
       "      <th>Centres</th>\n",
       "    </tr>\n",
       "  </thead>\n",
       "  <tbody>\n",
       "    <tr>\n",
       "      <th>Release Year</th>\n",
       "      <td>1.000000</td>\n",
       "      <td>-0.018043</td>\n",
       "      <td>0.099149</td>\n",
       "      <td>0.098737</td>\n",
       "      <td>0.160073</td>\n",
       "    </tr>\n",
       "    <tr>\n",
       "      <th>Rating</th>\n",
       "      <td>-0.018043</td>\n",
       "      <td>1.000000</td>\n",
       "      <td>0.124233</td>\n",
       "      <td>0.187274</td>\n",
       "      <td>0.104479</td>\n",
       "    </tr>\n",
       "    <tr>\n",
       "      <th>Budget in Crores</th>\n",
       "      <td>0.099149</td>\n",
       "      <td>0.124233</td>\n",
       "      <td>1.000000</td>\n",
       "      <td>0.900154</td>\n",
       "      <td>0.654542</td>\n",
       "    </tr>\n",
       "    <tr>\n",
       "      <th>Box Office Collection in crores</th>\n",
       "      <td>0.098737</td>\n",
       "      <td>0.187274</td>\n",
       "      <td>0.900154</td>\n",
       "      <td>1.000000</td>\n",
       "      <td>0.647957</td>\n",
       "    </tr>\n",
       "    <tr>\n",
       "      <th>Centres</th>\n",
       "      <td>0.160073</td>\n",
       "      <td>0.104479</td>\n",
       "      <td>0.654542</td>\n",
       "      <td>0.647957</td>\n",
       "      <td>1.000000</td>\n",
       "    </tr>\n",
       "  </tbody>\n",
       "</table>\n",
       "</div>"
      ],
      "text/plain": [
       "                                 Release Year    Rating  Budget in Crores  \\\n",
       "Release Year                         1.000000 -0.018043          0.099149   \n",
       "Rating                              -0.018043  1.000000          0.124233   \n",
       "Budget in Crores                     0.099149  0.124233          1.000000   \n",
       "Box Office Collection in crores      0.098737  0.187274          0.900154   \n",
       "Centres                              0.160073  0.104479          0.654542   \n",
       "\n",
       "                                 Box Office Collection in crores   Centres  \n",
       "Release Year                                            0.098737  0.160073  \n",
       "Rating                                                  0.187274  0.104479  \n",
       "Budget in Crores                                        0.900154  0.654542  \n",
       "Box Office Collection in crores                         1.000000  0.647957  \n",
       "Centres                                                 0.647957  1.000000  "
      ]
     },
     "execution_count": 13,
     "metadata": {},
     "output_type": "execute_result"
    }
   ],
   "source": [
    "dt.corr()"
   ]
  },
  {
   "cell_type": "markdown",
   "id": "cardiovascular-cologne",
   "metadata": {},
   "source": [
    "# Traning the dataset and mining"
   ]
  },
  {
   "cell_type": "code",
   "execution_count": 14,
   "id": "intellectual-tyler",
   "metadata": {},
   "outputs": [
    {
     "data": {
      "text/html": [
       "<div>\n",
       "<style scoped>\n",
       "    .dataframe tbody tr th:only-of-type {\n",
       "        vertical-align: middle;\n",
       "    }\n",
       "\n",
       "    .dataframe tbody tr th {\n",
       "        vertical-align: top;\n",
       "    }\n",
       "\n",
       "    .dataframe thead th {\n",
       "        text-align: right;\n",
       "    }\n",
       "</style>\n",
       "<table border=\"1\" class=\"dataframe\">\n",
       "  <thead>\n",
       "    <tr style=\"text-align: right;\">\n",
       "      <th></th>\n",
       "      <th>Budget</th>\n",
       "      <th>Box_office</th>\n",
       "      <th>Lin Reg Predicted Heights</th>\n",
       "      <th>Decision Tree Predicted Height</th>\n",
       "    </tr>\n",
       "  </thead>\n",
       "  <tbody>\n",
       "    <tr>\n",
       "      <th>0</th>\n",
       "      <td>2.0</td>\n",
       "      <td>4.0</td>\n",
       "      <td>-14.179343</td>\n",
       "      <td>8.473684</td>\n",
       "    </tr>\n",
       "    <tr>\n",
       "      <th>1</th>\n",
       "      <td>25.0</td>\n",
       "      <td>65.0</td>\n",
       "      <td>58.466511</td>\n",
       "      <td>37.782609</td>\n",
       "    </tr>\n",
       "    <tr>\n",
       "      <th>2</th>\n",
       "      <td>10.0</td>\n",
       "      <td>10.0</td>\n",
       "      <td>11.088780</td>\n",
       "      <td>28.611111</td>\n",
       "    </tr>\n",
       "    <tr>\n",
       "      <th>3</th>\n",
       "      <td>25.0</td>\n",
       "      <td>15.0</td>\n",
       "      <td>58.466511</td>\n",
       "      <td>37.782609</td>\n",
       "    </tr>\n",
       "    <tr>\n",
       "      <th>4</th>\n",
       "      <td>12.0</td>\n",
       "      <td>1.0</td>\n",
       "      <td>17.405811</td>\n",
       "      <td>19.032258</td>\n",
       "    </tr>\n",
       "    <tr>\n",
       "      <th>...</th>\n",
       "      <td>...</td>\n",
       "      <td>...</td>\n",
       "      <td>...</td>\n",
       "      <td>...</td>\n",
       "    </tr>\n",
       "    <tr>\n",
       "      <th>99</th>\n",
       "      <td>7.0</td>\n",
       "      <td>15.0</td>\n",
       "      <td>1.613234</td>\n",
       "      <td>14.750000</td>\n",
       "    </tr>\n",
       "    <tr>\n",
       "      <th>100</th>\n",
       "      <td>11.0</td>\n",
       "      <td>25.0</td>\n",
       "      <td>14.247295</td>\n",
       "      <td>16.176471</td>\n",
       "    </tr>\n",
       "    <tr>\n",
       "      <th>101</th>\n",
       "      <td>13.0</td>\n",
       "      <td>35.0</td>\n",
       "      <td>20.564326</td>\n",
       "      <td>20.333333</td>\n",
       "    </tr>\n",
       "    <tr>\n",
       "      <th>102</th>\n",
       "      <td>2.0</td>\n",
       "      <td>1.0</td>\n",
       "      <td>-14.179343</td>\n",
       "      <td>8.473684</td>\n",
       "    </tr>\n",
       "    <tr>\n",
       "      <th>103</th>\n",
       "      <td>5.0</td>\n",
       "      <td>19.0</td>\n",
       "      <td>-4.703797</td>\n",
       "      <td>10.958333</td>\n",
       "    </tr>\n",
       "  </tbody>\n",
       "</table>\n",
       "<p>104 rows × 4 columns</p>\n",
       "</div>"
      ],
      "text/plain": [
       "     Budget  Box_office  Lin Reg Predicted Heights   \\\n",
       "0       2.0         4.0                  -14.179343   \n",
       "1      25.0        65.0                   58.466511   \n",
       "2      10.0        10.0                   11.088780   \n",
       "3      25.0        15.0                   58.466511   \n",
       "4      12.0         1.0                   17.405811   \n",
       "..      ...         ...                         ...   \n",
       "99      7.0        15.0                    1.613234   \n",
       "100    11.0        25.0                   14.247295   \n",
       "101    13.0        35.0                   20.564326   \n",
       "102     2.0         1.0                  -14.179343   \n",
       "103     5.0        19.0                   -4.703797   \n",
       "\n",
       "     Decision Tree Predicted Height  \n",
       "0                          8.473684  \n",
       "1                         37.782609  \n",
       "2                         28.611111  \n",
       "3                         37.782609  \n",
       "4                         19.032258  \n",
       "..                              ...  \n",
       "99                        14.750000  \n",
       "100                       16.176471  \n",
       "101                       20.333333  \n",
       "102                        8.473684  \n",
       "103                       10.958333  \n",
       "\n",
       "[104 rows x 4 columns]"
      ]
     },
     "execution_count": 14,
     "metadata": {},
     "output_type": "execute_result"
    }
   ],
   "source": [
    "X_train, X_test, y_train, y_test = train_test_split(dt['Budget in Crores'].to_numpy(),dt['Box Office Collection in crores'].to_numpy(),test_size = 0.25,random_state=5)\n",
    "\n",
    "linear_reg = LinearRegression()\n",
    "decision_tree = tree.DecisionTreeRegressor()\n",
    "\n",
    "linear_reg.fit(X_train.reshape(-1,1),y_train)\n",
    "decision_tree = tree.DecisionTreeRegressor()\n",
    "linear_reg.fit(X_train.reshape(-1,1),y_train)\n",
    "decision_tree = decision_tree.fit(X_train.reshape(-1,1),y_train)\n",
    "linreg_heights = linear_reg.predict(X_test.reshape(-1,1))\n",
    "d_tree_heights = decision_tree.predict(X_test.reshape(-1,1))\n",
    "df_predict = pd.DataFrame({'Budget':X_test,'Box_office':y_test,'Lin Reg Predicted Heights ':linreg_heights,'Decision Tree Predicted Height':d_tree_heights})\n",
    "df_predict"
   ]
  },
  {
   "cell_type": "code",
   "execution_count": 15,
   "id": "detailed-reporter",
   "metadata": {},
   "outputs": [],
   "source": [
    "num = dt.describe(include=['int','float']).columns"
   ]
  },
  {
   "cell_type": "code",
   "execution_count": 16,
   "id": "incomplete-oracle",
   "metadata": {},
   "outputs": [
    {
     "data": {
      "text/plain": [
       "<AxesSubplot:title={'center':'Heat Map'}>"
      ]
     },
     "execution_count": 16,
     "metadata": {},
     "output_type": "execute_result"
    },
    {
     "data": {
      "image/png": "[encoded data removed]",
      "text/plain": [
       "<Figure size 360x360 with 2 Axes>"
      ]
     },
     "metadata": {
      "needs_background": "light"
     },
     "output_type": "display_data"
    }
   ],
   "source": [
    "py.figure(figsize = (5,5))\n",
    "py.title(\"Heat Map\")\n",
    "sb.heatmap(dt[num].corr(),annot = True,fmt = '.2f')"
   ]
  },
  {
   "cell_type": "code",
   "execution_count": 17,
   "id": "bizarre-accordance",
   "metadata": {
    "scrolled": true
   },
   "outputs": [
    {
     "data": {
      "text/plain": [
       "hit                     210\n",
       "flop                    168\n",
       "blockbuster              37\n",
       "All time blockbuster      1\n",
       "Name: Verdict, dtype: int64"
      ]
     },
     "execution_count": 17,
     "metadata": {},
     "output_type": "execute_result"
    }
   ],
   "source": [
    "dt[\"Verdict\"].value_counts()"
   ]
  },
  {
   "cell_type": "code",
   "execution_count": 18,
   "id": "frequent-league",
   "metadata": {},
   "outputs": [
    {
     "data": {
      "text/html": [
       "<div>\n",
       "<style scoped>\n",
       "    .dataframe tbody tr th:only-of-type {\n",
       "        vertical-align: middle;\n",
       "    }\n",
       "\n",
       "    .dataframe tbody tr th {\n",
       "        vertical-align: top;\n",
       "    }\n",
       "\n",
       "    .dataframe thead th {\n",
       "        text-align: right;\n",
       "    }\n",
       "</style>\n",
       "<table border=\"1\" class=\"dataframe\">\n",
       "  <thead>\n",
       "    <tr style=\"text-align: right;\">\n",
       "      <th></th>\n",
       "      <th>Release Year</th>\n",
       "      <th>Title</th>\n",
       "      <th>Director</th>\n",
       "      <th>Genre</th>\n",
       "      <th>Rating</th>\n",
       "      <th>Budget in Crores</th>\n",
       "      <th>Box Office Collection in crores</th>\n",
       "      <th>Centres</th>\n",
       "      <th>Verdict</th>\n",
       "    </tr>\n",
       "  </thead>\n",
       "  <tbody>\n",
       "    <tr>\n",
       "      <th>0</th>\n",
       "      <td>2011</td>\n",
       "      <td>Venghai</td>\n",
       "      <td>Hari</td>\n",
       "      <td>drama</td>\n",
       "      <td>4.7</td>\n",
       "      <td>10.0</td>\n",
       "      <td>20.0</td>\n",
       "      <td>150</td>\n",
       "      <td>hit</td>\n",
       "    </tr>\n",
       "    <tr>\n",
       "      <th>1</th>\n",
       "      <td>2011</td>\n",
       "      <td>Deiva Thirumagal</td>\n",
       "      <td>A. L. Vijay</td>\n",
       "      <td>drama</td>\n",
       "      <td>8.1</td>\n",
       "      <td>8.0</td>\n",
       "      <td>65.0</td>\n",
       "      <td>300</td>\n",
       "      <td>blockbuster</td>\n",
       "    </tr>\n",
       "    <tr>\n",
       "      <th>2</th>\n",
       "      <td>2011</td>\n",
       "      <td>Kanchana</td>\n",
       "      <td>Raghava Lawrence</td>\n",
       "      <td>comedy horror</td>\n",
       "      <td>6.6</td>\n",
       "      <td>12.0</td>\n",
       "      <td>50.0</td>\n",
       "      <td>200</td>\n",
       "      <td>blockbuster</td>\n",
       "    </tr>\n",
       "    <tr>\n",
       "      <th>3</th>\n",
       "      <td>2011</td>\n",
       "      <td>Karungali</td>\n",
       "      <td>Kalanjiyam</td>\n",
       "      <td>drama</td>\n",
       "      <td>5.5</td>\n",
       "      <td>1.0</td>\n",
       "      <td>0.5</td>\n",
       "      <td>25</td>\n",
       "      <td>flop</td>\n",
       "    </tr>\n",
       "    <tr>\n",
       "      <th>4</th>\n",
       "      <td>2011</td>\n",
       "      <td>Veppam</td>\n",
       "      <td>Anjana Ali Khan</td>\n",
       "      <td>drama</td>\n",
       "      <td>4.8</td>\n",
       "      <td>1.0</td>\n",
       "      <td>5.0</td>\n",
       "      <td>85</td>\n",
       "      <td>flop</td>\n",
       "    </tr>\n",
       "  </tbody>\n",
       "</table>\n",
       "</div>"
      ],
      "text/plain": [
       "   Release Year             Title          Director          Genre  Rating  \\\n",
       "0          2011           Venghai              Hari          drama     4.7   \n",
       "1          2011  Deiva Thirumagal       A. L. Vijay          drama     8.1   \n",
       "2          2011          Kanchana  Raghava Lawrence  comedy horror     6.6   \n",
       "3          2011         Karungali        Kalanjiyam          drama     5.5   \n",
       "4          2011            Veppam   Anjana Ali Khan          drama     4.8   \n",
       "\n",
       "   Budget in Crores  Box Office Collection in crores  Centres      Verdict  \n",
       "0              10.0                             20.0      150          hit  \n",
       "1               8.0                             65.0      300  blockbuster  \n",
       "2              12.0                             50.0      200  blockbuster  \n",
       "3               1.0                              0.5       25         flop  \n",
       "4               1.0                              5.0       85         flop  "
      ]
     },
     "execution_count": 18,
     "metadata": {},
     "output_type": "execute_result"
    }
   ],
   "source": [
    "data1 = dt.dropna()\n",
    "data1.head()"
   ]
  },
  {
   "cell_type": "code",
   "execution_count": 19,
   "id": "acquired-documentation",
   "metadata": {},
   "outputs": [
    {
     "data": {
      "text/html": [
       "<div>\n",
       "<style scoped>\n",
       "    .dataframe tbody tr th:only-of-type {\n",
       "        vertical-align: middle;\n",
       "    }\n",
       "\n",
       "    .dataframe tbody tr th {\n",
       "        vertical-align: top;\n",
       "    }\n",
       "\n",
       "    .dataframe thead th {\n",
       "        text-align: right;\n",
       "    }\n",
       "</style>\n",
       "<table border=\"1\" class=\"dataframe\">\n",
       "  <thead>\n",
       "    <tr style=\"text-align: right;\">\n",
       "      <th></th>\n",
       "      <th>Rating</th>\n",
       "      <th>Budget in Crores</th>\n",
       "      <th>Box Office Collection in crores</th>\n",
       "    </tr>\n",
       "  </thead>\n",
       "  <tbody>\n",
       "    <tr>\n",
       "      <th>0</th>\n",
       "      <td>4.7</td>\n",
       "      <td>10.0</td>\n",
       "      <td>20.0</td>\n",
       "    </tr>\n",
       "    <tr>\n",
       "      <th>1</th>\n",
       "      <td>8.1</td>\n",
       "      <td>8.0</td>\n",
       "      <td>65.0</td>\n",
       "    </tr>\n",
       "    <tr>\n",
       "      <th>2</th>\n",
       "      <td>6.6</td>\n",
       "      <td>12.0</td>\n",
       "      <td>50.0</td>\n",
       "    </tr>\n",
       "    <tr>\n",
       "      <th>3</th>\n",
       "      <td>5.5</td>\n",
       "      <td>1.0</td>\n",
       "      <td>0.5</td>\n",
       "    </tr>\n",
       "    <tr>\n",
       "      <th>4</th>\n",
       "      <td>4.8</td>\n",
       "      <td>1.0</td>\n",
       "      <td>5.0</td>\n",
       "    </tr>\n",
       "  </tbody>\n",
       "</table>\n",
       "</div>"
      ],
      "text/plain": [
       "   Rating  Budget in Crores  Box Office Collection in crores\n",
       "0     4.7              10.0                             20.0\n",
       "1     8.1               8.0                             65.0\n",
       "2     6.6              12.0                             50.0\n",
       "3     5.5               1.0                              0.5\n",
       "4     4.8               1.0                              5.0"
      ]
     },
     "execution_count": 19,
     "metadata": {},
     "output_type": "execute_result"
    }
   ],
   "source": [
    "x1 = data1.drop('Verdict',axis = 1)\n",
    "x2 = x1.drop('Title',axis = 1)\n",
    "x3 = x2.drop('Director',axis = 1)\n",
    "x4 = x3.drop('Genre',axis = 1)\n",
    "x5 = x4.drop('Release Year',axis = 1)\n",
    "x  = x5.drop('Centres',axis = 1)\n",
    "x.dropna()\n",
    "x.head()"
   ]
  },
  {
   "cell_type": "code",
   "execution_count": 21,
   "id": "imperial-arrival",
   "metadata": {},
   "outputs": [
    {
     "data": {
      "text/plain": [
       "0            hit\n",
       "1    blockbuster\n",
       "2    blockbuster\n",
       "3           flop\n",
       "4           flop\n",
       "Name: Verdict, dtype: object"
      ]
     },
     "execution_count": 21,
     "metadata": {},
     "output_type": "execute_result"
    }
   ],
   "source": [
    "y  = data1['Verdict']\n",
    "y.dropna()\n",
    "y.head()"
   ]
  },
  {
   "cell_type": "code",
   "execution_count": 22,
   "id": "existing-estate",
   "metadata": {},
   "outputs": [
    {
     "data": {
      "text/plain": [
       "((312, 3), (104, 3), (312,), (104,))"
      ]
     },
     "execution_count": 22,
     "metadata": {},
     "output_type": "execute_result"
    }
   ],
   "source": [
    "# Splitting the dataset into training and test set.\n",
    "x_train, x_test, y_train, y_test= train_test_split(x, y, test_size= 0.25, random_state=0)  \n",
    "#feature Scaling   \n",
    "stx= StandardScaler()    \n",
    "x_train= stx.fit_transform(x_train)    \n",
    "x_test= stx.transform(x_test)\n",
    "x_train.shape, x_test.shape, y_train.shape, y_test.shape"
   ]
  },
  {
   "cell_type": "code",
   "execution_count": 23,
   "id": "usual-wilson",
   "metadata": {},
   "outputs": [],
   "source": [
    "#Fitting K-NN classifier to the training set  \n",
    "classifier= KNeighborsClassifier(n_neighbors=5, metric='minkowski', p=2 )  \n",
    "classifier.fit(x_train, y_train)\n",
    "#Predicting the test set result  \n",
    "y_pred= classifier.predict(x_test)"
   ]
  },
  {
   "cell_type": "code",
   "execution_count": 25,
   "id": "grave-retreat",
   "metadata": {},
   "outputs": [
    {
     "name": "stdout",
     "output_type": "stream",
     "text": [
      "              precision    recall  f1-score   support\n",
      "\n",
      " blockbuster       0.90      0.69      0.78        13\n",
      "        flop       0.64      0.68      0.66        34\n",
      "         hit       0.74      0.75      0.75        57\n",
      "\n",
      "    accuracy                           0.72       104\n",
      "   macro avg       0.76      0.71      0.73       104\n",
      "weighted avg       0.73      0.72      0.72       104\n",
      "\n"
     ]
    },
    {
     "data": {
      "image/png": "[encoded data removed]",
      "text/plain": [
       "<Figure size 1728x720 with 2 Axes>"
      ]
     },
     "metadata": {
      "needs_background": "light"
     },
     "output_type": "display_data"
    }
   ],
   "source": [
    "#Creating the Confusion matrix  \n",
    "cm= confusion_matrix(y_test, y_pred) \n",
    "# Seaborn's heatmap to better visualize the confusion matrix\n",
    "sb.heatmap(cm, annot=True, fmt='d')\n",
    "print(classification_report(y_test, y_pred))"
   ]
  },
  {
   "cell_type": "code",
   "execution_count": 26,
   "id": "realistic-treasurer",
   "metadata": {},
   "outputs": [
    {
     "data": {
      "text/plain": [
       "((249, 3), (167, 3), (249,), (167,))"
      ]
     },
     "execution_count": 26,
     "metadata": {},
     "output_type": "execute_result"
    }
   ],
   "source": [
    "# Splitting the dataset into training and test set.\n",
    "x_train, x_test, y_train, y_test= train_test_split(x, y, test_size= 0.25, random_state=0)  \n",
    "#feature Scaling   \n",
    "scaler = MinMaxScaler()   \n",
    "x_train= scaler.fit_transform(x_train)    \n",
    "x_test= scaler.transform(x_test)\n",
    "x_train, x_test, y_train, y_test = train_test_split(x, y, test_size=0.4, random_state=1)\n",
    "x_train.shape, x_test.shape,y_train.shape, y_test.shape"
   ]
  },
  {
   "cell_type": "code",
   "execution_count": 30,
   "id": "tired-dream",
   "metadata": {},
   "outputs": [
    {
     "name": "stdout",
     "output_type": "stream",
     "text": [
      "                      precision    recall  f1-score   support\n",
      "\n",
      "All time blockbuster       0.00      0.00      0.00         1\n",
      "         blockbuster       0.58      0.50      0.54        14\n",
      "                flop       0.61      0.91      0.73        74\n",
      "                 hit       0.71      0.41      0.52        78\n",
      "\n",
      "            accuracy                           0.63       167\n",
      "           macro avg       0.48      0.45      0.45       167\n",
      "        weighted avg       0.65      0.63      0.61       167\n",
      "\n",
      "Gaussian Naive Bayes model accuracy(in %): 63.47305389221557\n"
     ]
    },
    {
     "name": "stderr",
     "output_type": "stream",
     "text": [
      "c:\\users\\arun\\appdata\\local\\programs\\python\\python39\\lib\\site-packages\\sklearn\\metrics\\_classification.py:1245: UndefinedMetricWarning: Precision and F-score are ill-defined and being set to 0.0 in labels with no predicted samples. Use `zero_division` parameter to control this behavior.\n",
      "  _warn_prf(average, modifier, msg_start, len(result))\n",
      "c:\\users\\arun\\appdata\\local\\programs\\python\\python39\\lib\\site-packages\\sklearn\\metrics\\_classification.py:1245: UndefinedMetricWarning: Precision and F-score are ill-defined and being set to 0.0 in labels with no predicted samples. Use `zero_division` parameter to control this behavior.\n",
      "  _warn_prf(average, modifier, msg_start, len(result))\n",
      "c:\\users\\arun\\appdata\\local\\programs\\python\\python39\\lib\\site-packages\\sklearn\\metrics\\_classification.py:1245: UndefinedMetricWarning: Precision and F-score are ill-defined and being set to 0.0 in labels with no predicted samples. Use `zero_division` parameter to control this behavior.\n",
      "  _warn_prf(average, modifier, msg_start, len(result))\n"
     ]
    }
   ],
   "source": [
    "from sklearn import metrics\n",
    "#NAIVES BAYES CLASSIFIER\n",
    "#1 GAUSSIAN\n",
    "gaussian_nb = GaussianNB()\n",
    "gaussian_nb.fit(x_train, y_train)\n",
    "gaussian_predict = gaussian_nb.predict(x_test)\n",
    "print(classification_report(y_test, gaussian_predict))\n",
    "a = metrics.accuracy_score(y_test, gaussian_predict)*100\n",
    "print(\"Gaussian Naive Bayes model accuracy(in %):\", a)"
   ]
  },
  {
   "cell_type": "code",
   "execution_count": 29,
   "id": "specific-persian",
   "metadata": {},
   "outputs": [
    {
     "data": {
      "text/plain": [
       "<AxesSubplot:>"
      ]
     },
     "execution_count": 29,
     "metadata": {},
     "output_type": "execute_result"
    },
    {
     "data": {
      "image/png": "[encoded data removed]",
      "text/plain": [
       "<Figure size 1728x720 with 2 Axes>"
      ]
     },
     "metadata": {
      "needs_background": "light"
     },
     "output_type": "display_data"
    }
   ],
   "source": [
    "#Creating the Confusion matrix  \n",
    "cm= confusion_matrix(y_test, gaussian_predict) \n",
    "# Seaborn's heatmap to better visualize the confusion matrix\n",
    "sb.heatmap(cm, annot=True, fmt='d')"
   ]
  },
  {
   "cell_type": "code",
   "execution_count": 33,
   "id": "typical-valentine",
   "metadata": {},
   "outputs": [
    {
     "name": "stdout",
     "output_type": "stream",
     "text": [
      "                      precision    recall  f1-score   support\n",
      "\n",
      "All time blockbuster       0.00      0.00      0.00         1\n",
      "         blockbuster       0.00      0.00      0.00        14\n",
      "                flop       0.00      0.00      0.00        74\n",
      "                 hit       0.47      1.00      0.64        78\n",
      "\n",
      "            accuracy                           0.47       167\n",
      "           macro avg       0.12      0.25      0.16       167\n",
      "        weighted avg       0.22      0.47      0.30       167\n",
      "\n",
      "Bernoulli Naive Bayes model accuracy(in %): 46.706586826347305\n"
     ]
    },
    {
     "name": "stderr",
     "output_type": "stream",
     "text": [
      "c:\\users\\arun\\appdata\\local\\programs\\python\\python39\\lib\\site-packages\\sklearn\\metrics\\_classification.py:1245: UndefinedMetricWarning: Precision and F-score are ill-defined and being set to 0.0 in labels with no predicted samples. Use `zero_division` parameter to control this behavior.\n",
      "  _warn_prf(average, modifier, msg_start, len(result))\n",
      "c:\\users\\arun\\appdata\\local\\programs\\python\\python39\\lib\\site-packages\\sklearn\\metrics\\_classification.py:1245: UndefinedMetricWarning: Precision and F-score are ill-defined and being set to 0.0 in labels with no predicted samples. Use `zero_division` parameter to control this behavior.\n",
      "  _warn_prf(average, modifier, msg_start, len(result))\n",
      "c:\\users\\arun\\appdata\\local\\programs\\python\\python39\\lib\\site-packages\\sklearn\\metrics\\_classification.py:1245: UndefinedMetricWarning: Precision and F-score are ill-defined and being set to 0.0 in labels with no predicted samples. Use `zero_division` parameter to control this behavior.\n",
      "  _warn_prf(average, modifier, msg_start, len(result))\n"
     ]
    }
   ],
   "source": [
    "#2 BERNOULLI\n",
    "bernoulli_nb = BernoulliNB()\n",
    "bernoulli_nb.fit(x_train, y_train)\n",
    "bernoulli_predict = bernoulli_nb.predict(x_test)\n",
    "print(classification_report(y_test, bernoulli_predict))\n",
    "b = metrics.accuracy_score(y_test, bernoulli_predict)*100\n",
    "print(\"Bernoulli Naive Bayes model accuracy(in %):\", b)"
   ]
  },
  {
   "cell_type": "code",
   "execution_count": 35,
   "id": "chemical-translator",
   "metadata": {},
   "outputs": [
    {
     "data": {
      "text/plain": [
       "<AxesSubplot:>"
      ]
     },
     "execution_count": 35,
     "metadata": {},
     "output_type": "execute_result"
    },
    {
     "data": {
      "image/png": "[encoded data removed]",
      "text/plain": [
       "<Figure size 1728x720 with 2 Axes>"
      ]
     },
     "metadata": {
      "needs_background": "light"
     },
     "output_type": "display_data"
    }
   ],
   "source": [
    "#Creating the Confusion matrix  \n",
    "cm= confusion_matrix(y_test, bernoulli_predict) \n",
    "# Seaborn's heatmap to better visualize the confusion matrix\n",
    "sb.heatmap(cm, annot=True, fmt='d')"
   ]
  },
  {
   "cell_type": "code",
   "execution_count": null,
   "id": "decimal-advantage",
   "metadata": {},
   "outputs": [],
   "source": []
  }
 ],
 "metadata": {
  "kernelspec": {
   "display_name": "Python 3",
   "language": "python",
   "name": "python3"
  },
  "language_info": {
   "codemirror_mode": {
    "name": "ipython",
    "version": 3
   },
   "file_extension": ".py",
   "mimetype": "text/x-python",
   "name": "python",
   "nbconvert_exporter": "python",
   "pygments_lexer": "ipython3",
   "version": "3.9.5"
  }
 },
 "nbformat": 4,
 "nbformat_minor": 5
}
